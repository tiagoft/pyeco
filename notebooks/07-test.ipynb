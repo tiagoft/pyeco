{
 "cells": [
  {
   "cell_type": "markdown",
   "metadata": {},
   "source": [
    "# Final test\n",
    "\n",
    "Deadline: April 7th, 2025\n",
    "\n",
    "Instructions:\n",
    "\n",
    "1. Solve each question in its corresponding cell.\n",
    "2. DO NOT erase the comments in the beginning!\n",
    "3. Comment your answers so that \n",
    "4. After you have finished, make a ZIP file with the notebook and all datasets, saved data, etc., and submit the zipfile via blackboard.\n",
    "5. Before submitting, remember to remove API keys from the code"
   ]
  },
  {
   "cell_type": "code",
   "execution_count": 6,
   "metadata": {},
   "outputs": [],
   "source": [
    "#Q1\n",
    "# Using data from DataSUS and Pandas dataframes, find what city in the state of São Paulo has the lowest birth rate.\n"
   ]
  },
  {
   "cell_type": "code",
   "execution_count": 7,
   "metadata": {},
   "outputs": [],
   "source": [
    "#Q2\n",
    "# Make an SQL dataset with the data from the previous question. Make an SQL query that answers the question: what city in São Paulo has the lowest birth rate?"
   ]
  },
  {
   "cell_type": "code",
   "execution_count": 8,
   "metadata": {},
   "outputs": [],
   "source": [
    "#Q3\n",
    "# Make an interactive map showing the birth rates of cities in São Paulo. Export the map to a separate HTML file."
   ]
  },
  {
   "cell_type": "code",
   "execution_count": 9,
   "metadata": {},
   "outputs": [],
   "source": [
    "#Q4\n",
    "# Download one of the many 'fake news' datasets from kaggle. Train and test a prediction model capable of identifying fake news. Using the results, discuss if the model\n",
    "# is reliable enough to be used as a barrier criteria in a social network."
   ]
  },
  {
   "cell_type": "code",
   "execution_count": 10,
   "metadata": {},
   "outputs": [],
   "source": [
    "#Q5\n",
    "# Use an LLM in your fake news dataset to identify what are characteristics of news that usually lead to their classification as 'fake'. Do you agree with the classification\n",
    "# (both in the context of the dataset, and in a general sense)? HINT: use the RAG approach, and, if necessary, use a random sample of the dataset."
   ]
  },
  {
   "cell_type": "code",
   "execution_count": null,
   "metadata": {},
   "outputs": [],
   "source": []
  }
 ],
 "metadata": {
  "kernelspec": {
   "display_name": "pyeco",
   "language": "python",
   "name": "python3"
  },
  "language_info": {
   "codemirror_mode": {
    "name": "ipython",
    "version": 3
   },
   "file_extension": ".py",
   "mimetype": "text/x-python",
   "name": "python",
   "nbconvert_exporter": "python",
   "pygments_lexer": "ipython3",
   "version": "3.13.1"
  }
 },
 "nbformat": 4,
 "nbformat_minor": 2
}
